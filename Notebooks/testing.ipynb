{
 "cells": [
  {
   "cell_type": "code",
   "execution_count": 1,
   "metadata": {},
   "outputs": [],
   "source": [
    "from joblib import dump, load\n",
    "import pandas as pd\n",
    "import numpy as np\n",
    "from sklearn.feature_extraction.text import CountVectorizer , TfidfVectorizer\n",
    "from sklearn import preprocessing\n",
    "from features import extract_tokens\n",
    "from sklearn.model_selection import train_test_split"
   ]
  },
  {
   "cell_type": "code",
   "execution_count": 2,
   "metadata": {},
   "outputs": [],
   "source": [
    "loaded_model = load(\"voting_model.joblib\")"
   ]
  },
  {
   "cell_type": "code",
   "execution_count": 3,
   "metadata": {},
   "outputs": [],
   "source": [
    "df = pd.read_csv(\"phishing_site_urls.csv\")\n",
    "df = df.drop_duplicates()\n",
    "le = preprocessing.LabelEncoder()\n",
    "df[\"Label\"] = le.fit_transform(df[\"Label\"])\n",
    "df.sample(frac=1).reset_index(drop=True)\n",
    "y = df[\"Label\"]\n",
    "X = df.drop(\"Label\" , axis=1)"
   ]
  },
  {
   "cell_type": "code",
   "execution_count": 4,
   "metadata": {},
   "outputs": [],
   "source": [
    "X_train, X_test, y_train, y_test = train_test_split(X, y, test_size=0.20, random_state=42)\n",
    "count_vectorizer = CountVectorizer(tokenizer = extract_tokens)# Tokenizer\n",
    "count_vectorizer_X_train = count_vectorizer.fit_transform(X_train[\"URL\"])\n",
    "\n",
    "tfidf_vectorizer = TfidfVectorizer(tokenizer = extract_tokens)\n",
    "tfidf_vectorizer_X_train = tfidf_vectorizer.fit_transform(X_train[\"URL\"])"
   ]
  },
  {
   "cell_type": "code",
   "execution_count": 16,
   "metadata": {},
   "outputs": [
    {
     "data": {
      "text/plain": [
       "array([0])"
      ]
     },
     "execution_count": 16,
     "metadata": {},
     "output_type": "execute_result"
    }
   ],
   "source": [
    "lst = [\"https://post.swiss.prohoster.biz/swiss/manage/?view=login&appIdKey=fcd00c0656cc490&country\"]\n",
    "test= count_vectorizer.transform(lst)\n",
    "loaded_model.predict(test)"
   ]
  },
  {
   "cell_type": "code",
   "execution_count": null,
   "metadata": {},
   "outputs": [],
   "source": []
  },
  {
   "cell_type": "code",
   "execution_count": null,
   "metadata": {},
   "outputs": [],
   "source": []
  }
 ],
 "metadata": {
  "kernelspec": {
   "display_name": "Python 3",
   "language": "python",
   "name": "python3"
  },
  "language_info": {
   "codemirror_mode": {
    "name": "ipython",
    "version": 3
   },
   "file_extension": ".py",
   "mimetype": "text/x-python",
   "name": "python",
   "nbconvert_exporter": "python",
   "pygments_lexer": "ipython3",
   "version": "3.8.5"
  }
 },
 "nbformat": 4,
 "nbformat_minor": 4
}
