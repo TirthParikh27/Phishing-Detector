{
 "cells": [
  {
   "cell_type": "code",
   "execution_count": 9,
   "metadata": {
    "scrolled": true
   },
   "outputs": [],
   "source": [
    "import features\n",
    "import pandas as pd\n",
    "import numpy as np\n",
    "import matplotlib.pyplot as plt\n",
    "from sklearn.model_selection import train_test_split\n",
    "from sklearn.experimental import enable_hist_gradient_boosting\n",
    "from sklearn.ensemble import HistGradientBoostingClassifier , VotingClassifier , RandomForestClassifier\n",
    "from sklearn.model_selection import cross_val_score , RandomizedSearchCV , StratifiedKFold\n",
    "from sklearn.metrics import log_loss\n",
    "from sklearn.calibration import CalibratedClassifierCV\n",
    "from sklearn.feature_selection import RFE\n",
    "from sklearn.tree import DecisionTreeClassifier\n",
    "from sklearn.linear_model import LogisticRegression\n",
    "from sklearn.pipeline import Pipeline\n",
    "from sklearn.preprocessing import StandardScaler\n",
    "import seaborn as sns\n",
    "from pandarallel import pandarallel"
   ]
  },
  {
   "cell_type": "code",
   "execution_count": 13,
   "metadata": {},
   "outputs": [
    {
     "data": {
      "text/plain": [
       "good    344821\n",
       "bad      75643\n",
       "Name: Class, dtype: int64"
      ]
     },
     "execution_count": 13,
     "metadata": {},
     "output_type": "execute_result"
    }
   ],
   "source": [
    "df = pd.read_csv(\"phishing_site_urls2.csv\")\n",
    "df[\"Class\"].value_counts()"
   ]
  },
  {
   "cell_type": "code",
   "execution_count": 14,
   "metadata": {},
   "outputs": [
    {
     "data": {
      "text/html": [
       "<div>\n",
       "<style scoped>\n",
       "    .dataframe tbody tr th:only-of-type {\n",
       "        vertical-align: middle;\n",
       "    }\n",
       "\n",
       "    .dataframe tbody tr th {\n",
       "        vertical-align: top;\n",
       "    }\n",
       "\n",
       "    .dataframe thead th {\n",
       "        text-align: right;\n",
       "    }\n",
       "</style>\n",
       "<table border=\"1\" class=\"dataframe\">\n",
       "  <thead>\n",
       "    <tr style=\"text-align: right;\">\n",
       "      <th></th>\n",
       "      <th>URLs</th>\n",
       "      <th>Class</th>\n",
       "    </tr>\n",
       "  </thead>\n",
       "  <tbody>\n",
       "    <tr>\n",
       "      <th>count</th>\n",
       "      <td>411248</td>\n",
       "      <td>411248</td>\n",
       "    </tr>\n",
       "    <tr>\n",
       "      <th>unique</th>\n",
       "      <td>411247</td>\n",
       "      <td>2</td>\n",
       "    </tr>\n",
       "    <tr>\n",
       "      <th>top</th>\n",
       "      <td>tommyhumphreys.com/</td>\n",
       "      <td>good</td>\n",
       "    </tr>\n",
       "    <tr>\n",
       "      <th>freq</th>\n",
       "      <td>2</td>\n",
       "      <td>344800</td>\n",
       "    </tr>\n",
       "  </tbody>\n",
       "</table>\n",
       "</div>"
      ],
      "text/plain": [
       "                       URLs   Class\n",
       "count                411248  411248\n",
       "unique               411247       2\n",
       "top     tommyhumphreys.com/    good\n",
       "freq                      2  344800"
      ]
     },
     "execution_count": 14,
     "metadata": {},
     "output_type": "execute_result"
    }
   ],
   "source": [
    "df = df.drop_duplicates()\n",
    "df.describe()"
   ]
  },
  {
   "cell_type": "code",
   "execution_count": 5,
   "metadata": {},
   "outputs": [
    {
     "data": {
      "text/html": [
       "<div>\n",
       "<style scoped>\n",
       "    .dataframe tbody tr th:only-of-type {\n",
       "        vertical-align: middle;\n",
       "    }\n",
       "\n",
       "    .dataframe tbody tr th {\n",
       "        vertical-align: top;\n",
       "    }\n",
       "\n",
       "    .dataframe thead th {\n",
       "        text-align: right;\n",
       "    }\n",
       "</style>\n",
       "<table border=\"1\" class=\"dataframe\">\n",
       "  <thead>\n",
       "    <tr style=\"text-align: right;\">\n",
       "      <th></th>\n",
       "      <th>URL</th>\n",
       "      <th>Label</th>\n",
       "    </tr>\n",
       "  </thead>\n",
       "  <tbody>\n",
       "    <tr>\n",
       "      <th>0</th>\n",
       "      <td>nobell.it/70ffb52d079109dca5664cce6f317373782/...</td>\n",
       "      <td>bad</td>\n",
       "    </tr>\n",
       "    <tr>\n",
       "      <th>1</th>\n",
       "      <td>www.dghjdgf.com/paypal.co.uk/cycgi-bin/webscrc...</td>\n",
       "      <td>bad</td>\n",
       "    </tr>\n",
       "    <tr>\n",
       "      <th>2</th>\n",
       "      <td>serviciosbys.com/paypal.cgi.bin.get-into.herf....</td>\n",
       "      <td>bad</td>\n",
       "    </tr>\n",
       "    <tr>\n",
       "      <th>3</th>\n",
       "      <td>mail.printakid.com/www.online.americanexpress....</td>\n",
       "      <td>bad</td>\n",
       "    </tr>\n",
       "    <tr>\n",
       "      <th>4</th>\n",
       "      <td>thewhiskeydregs.com/wp-content/themes/widescre...</td>\n",
       "      <td>bad</td>\n",
       "    </tr>\n",
       "    <tr>\n",
       "      <th>...</th>\n",
       "      <td>...</td>\n",
       "      <td>...</td>\n",
       "    </tr>\n",
       "    <tr>\n",
       "      <th>516466</th>\n",
       "      <td>23.227.196.215/</td>\n",
       "      <td>bad</td>\n",
       "    </tr>\n",
       "    <tr>\n",
       "      <th>516467</th>\n",
       "      <td>apple-checker.org/</td>\n",
       "      <td>bad</td>\n",
       "    </tr>\n",
       "    <tr>\n",
       "      <th>516468</th>\n",
       "      <td>apple-iclods.org/</td>\n",
       "      <td>bad</td>\n",
       "    </tr>\n",
       "    <tr>\n",
       "      <th>516469</th>\n",
       "      <td>apple-uptoday.org/</td>\n",
       "      <td>bad</td>\n",
       "    </tr>\n",
       "    <tr>\n",
       "      <th>516470</th>\n",
       "      <td>apple-search.info</td>\n",
       "      <td>bad</td>\n",
       "    </tr>\n",
       "  </tbody>\n",
       "</table>\n",
       "<p>507196 rows × 2 columns</p>\n",
       "</div>"
      ],
      "text/plain": [
       "                                                      URL Label\n",
       "0       nobell.it/70ffb52d079109dca5664cce6f317373782/...   bad\n",
       "1       www.dghjdgf.com/paypal.co.uk/cycgi-bin/webscrc...   bad\n",
       "2       serviciosbys.com/paypal.cgi.bin.get-into.herf....   bad\n",
       "3       mail.printakid.com/www.online.americanexpress....   bad\n",
       "4       thewhiskeydregs.com/wp-content/themes/widescre...   bad\n",
       "...                                                   ...   ...\n",
       "516466                                    23.227.196.215/   bad\n",
       "516467                                 apple-checker.org/   bad\n",
       "516468                                  apple-iclods.org/   bad\n",
       "516469                                 apple-uptoday.org/   bad\n",
       "516470                                  apple-search.info   bad\n",
       "\n",
       "[507196 rows x 2 columns]"
      ]
     },
     "execution_count": 5,
     "metadata": {},
     "output_type": "execute_result"
    }
   ],
   "source": [
    "dd"
   ]
  },
  {
   "cell_type": "code",
   "execution_count": 10,
   "metadata": {},
   "outputs": [],
   "source": [
    "def createData(url):\n",
    "    row = features.add_row_url(url)\n",
    "    row_extended = features.domain_add_row(url , row)\n",
    "    row_final = features.rank_add_row(url , row_extended)\n",
    "    return row_final"
   ]
  },
  {
   "cell_type": "code",
   "execution_count": 8,
   "metadata": {},
   "outputs": [
    {
     "name": "stdout",
     "output_type": "stream",
     "text": [
      "Error trying to connect to socket: closing socket\n",
      "Error trying to connect to socket: closing socket\n",
      "Error trying to connect to socket: closing socket\n",
      "Error trying to connect to socket: closing socket\n",
      "Error trying to connect to socket: closing socket\n",
      "Error trying to connect to socket: closing socket\n",
      "Error trying to connect to socket: closing socket\n",
      "Error trying to connect to socket: closing socket\n",
      "Error trying to connect to socket: closing socket\n",
      "Error trying to connect to socket: closing socket\n",
      "Error trying to connect to socket: closing socket\n",
      "Error trying to connect to socket: closing socket\n",
      "Error trying to connect to socket: closing socket\n",
      "Error trying to connect to socket: closing socket\n",
      "Error trying to connect to socket: closing socket\n",
      "Error trying to connect to socket: closing socket\n",
      "Error trying to connect to socket: closing socket\n",
      "Error trying to connect to socket: closing socket\n",
      "Error trying to connect to socket: closing socket\n",
      "Error trying to connect to socket: closing socket\n",
      "Error trying to connect to socket: closing socket\n",
      "Error trying to connect to socket: closing socket\n",
      "Error trying to connect to socket: closing socket\n",
      "Error trying to connect to socket: closing socket\n",
      "Error trying to connect to socket: closing socket\n",
      "Error trying to connect to socket: closing socket\n",
      "Error trying to connect to socket: closing socket\n",
      "Error trying to connect to socket: closing socket\n",
      "Error trying to connect to socket: closing socket\n",
      "Error trying to connect to socket: closing socket\n",
      "Error trying to connect to socket: closing socket\n",
      "Error trying to connect to socket: closing socket\n",
      "Error trying to connect to socket: closing socket\n",
      "Error trying to connect to socket: closing socket\n",
      "Error trying to connect to socket: closing socket\n",
      "Error trying to connect to socket: closing socket\n",
      "Error trying to connect to socket: closing socket\n",
      "Error trying to connect to socket: closing socket\n",
      "Error trying to connect to socket: closing socket\n",
      "Error trying to connect to socket: closing socket\n",
      "Error trying to connect to socket: closing socket\n",
      "Error trying to connect to socket: closing socket\n",
      "Error trying to connect to socket: closing socket\n",
      "Error trying to connect to socket: closing socket\n",
      "Error trying to connect to socket: closing socket\n",
      "Error trying to connect to socket: closing socket\n",
      "Error trying to connect to socket: closing socket\n",
      "Error trying to connect to socket: closing socket\n",
      "Error trying to connect to socket: closing socket\n",
      "Error trying to connect to socket: closing socket\n",
      "Error trying to connect to socket: closing socket\n",
      "Error trying to connect to socket: closing socket\n",
      "Error trying to connect to socket: closing socket\n",
      "Error trying to connect to socket: closing socket\n",
      "Error trying to connect to socket: closing socket\n",
      "Error trying to connect to socket: closing socket\n",
      "Error trying to connect to socket: closing socket\n",
      "Error trying to connect to socket: closing socket\n",
      "Error trying to connect to socket: closing socket\n",
      "Error trying to connect to socket: closing socket\n",
      "Error trying to connect to socket: closing socket\n",
      "Error trying to connect to socket: closing socket\n",
      "Error trying to connect to socket: closing socket\n",
      "Error trying to connect to socket: closing socket\n",
      "Error trying to connect to socket: closing socket\n",
      "Error trying to connect to socket: closing socket\n",
      "Error trying to connect to socket: closing socket\n",
      "Error trying to connect to socket: closing socket\n",
      "Error trying to connect to socket: closing socket\n",
      "Error trying to connect to socket: closing socket\n",
      "Error trying to connect to socket: closing socket\n",
      "Error trying to connect to socket: closing socket\n",
      "Error trying to connect to socket: closing socket\n",
      "Error trying to connect to socket: closing socket\n",
      "Error trying to connect to socket: closing socket\n",
      "Error trying to connect to socket: closing socket\n",
      "Error trying to connect to socket: closing socket\n",
      "Error trying to connect to socket: closing socket\n",
      "Error trying to connect to socket: closing socket\n",
      "Error trying to connect to socket: closing socket\n",
      "Error trying to connect to socket: closing socket\n",
      "Error trying to connect to socket: closing socket\n",
      "Error trying to connect to socket: closing socket\n",
      "Error trying to connect to socket: closing socket\n",
      "Error trying to connect to socket: closing socket\n",
      "Error trying to connect to socket: closing socket\n",
      "Error trying to connect to socket: closing socket\n",
      "Error trying to connect to socket: closing socket\n",
      "Error trying to connect to socket: closing socket\n",
      "Error trying to connect to socket: closing socket\n",
      "Error trying to connect to socket: closing socket\n",
      "Error trying to connect to socket: closing socket\n",
      "Error trying to connect to socket: closing socket\n",
      "Error trying to connect to socket: closing socket\n",
      "Error trying to connect to socket: closing socket\n",
      "Error trying to connect to socket: closing socket\n",
      "Error trying to connect to socket: closing socket\n",
      "Error trying to connect to socket: closing socket\n"
     ]
    },
    {
     "ename": "IndexError",
     "evalue": "list index out of range",
     "output_type": "error",
     "traceback": [
      "\u001b[1;31m---------------------------------------------------------------------------\u001b[0m",
      "\u001b[1;31mIndexError\u001b[0m                                Traceback (most recent call last)",
      "\u001b[1;32m<ipython-input-8-77def74558c1>\u001b[0m in \u001b[0;36m<module>\u001b[1;34m\u001b[0m\n\u001b[1;32m----> 1\u001b[1;33m \u001b[0murl_data\u001b[0m \u001b[1;33m=\u001b[0m \u001b[0mcreateData\u001b[0m\u001b[1;33m(\u001b[0m\u001b[0mdf\u001b[0m\u001b[1;33m)\u001b[0m\u001b[1;33m\u001b[0m\u001b[1;33m\u001b[0m\u001b[0m\n\u001b[0m\u001b[0;32m      2\u001b[0m \u001b[0murl_data\u001b[0m\u001b[1;33m\u001b[0m\u001b[1;33m\u001b[0m\u001b[0m\n",
      "\u001b[1;32m<ipython-input-4-605eb517928e>\u001b[0m in \u001b[0;36mcreateData\u001b[1;34m(data)\u001b[0m\n\u001b[0;32m      4\u001b[0m         \u001b[0murl\u001b[0m \u001b[1;33m=\u001b[0m \u001b[0mrecord\u001b[0m\u001b[1;33m[\u001b[0m\u001b[1;34m\"URL\"\u001b[0m\u001b[1;33m]\u001b[0m\u001b[1;33m\u001b[0m\u001b[1;33m\u001b[0m\u001b[0m\n\u001b[0;32m      5\u001b[0m         \u001b[0mrow\u001b[0m \u001b[1;33m=\u001b[0m \u001b[0mfeatures\u001b[0m\u001b[1;33m.\u001b[0m\u001b[0madd_row_url\u001b[0m\u001b[1;33m(\u001b[0m\u001b[0murl\u001b[0m\u001b[1;33m)\u001b[0m\u001b[1;33m\u001b[0m\u001b[1;33m\u001b[0m\u001b[0m\n\u001b[1;32m----> 6\u001b[1;33m         \u001b[0mrow_extended\u001b[0m \u001b[1;33m=\u001b[0m \u001b[0mfeatures\u001b[0m\u001b[1;33m.\u001b[0m\u001b[0mdomain_add_row\u001b[0m\u001b[1;33m(\u001b[0m\u001b[0murl\u001b[0m \u001b[1;33m,\u001b[0m \u001b[0mrow\u001b[0m\u001b[1;33m)\u001b[0m\u001b[1;33m\u001b[0m\u001b[1;33m\u001b[0m\u001b[0m\n\u001b[0m\u001b[0;32m      7\u001b[0m         \u001b[0mrow_final\u001b[0m \u001b[1;33m=\u001b[0m \u001b[0mfeatures\u001b[0m\u001b[1;33m.\u001b[0m\u001b[0mrank_add_row\u001b[0m\u001b[1;33m(\u001b[0m\u001b[0murl\u001b[0m \u001b[1;33m,\u001b[0m \u001b[0mrow_extended\u001b[0m\u001b[1;33m)\u001b[0m\u001b[1;33m\u001b[0m\u001b[1;33m\u001b[0m\u001b[0m\n\u001b[0;32m      8\u001b[0m         \u001b[0mrow_final\u001b[0m\u001b[1;33m.\u001b[0m\u001b[0mappend\u001b[0m\u001b[1;33m(\u001b[0m\u001b[0mrecord\u001b[0m\u001b[1;33m[\u001b[0m\u001b[1;34m\"Label\"\u001b[0m\u001b[1;33m]\u001b[0m\u001b[1;33m)\u001b[0m\u001b[1;33m\u001b[0m\u001b[1;33m\u001b[0m\u001b[0m\n",
      "\u001b[1;32m~\\ml\\Phishing-Detector\\features.py\u001b[0m in \u001b[0;36mdomain_add_row\u001b[1;34m(url, row)\u001b[0m\n\u001b[0;32m    104\u001b[0m         \u001b[0murl\u001b[0m \u001b[1;33m=\u001b[0m \u001b[1;34m\"http://\"\u001b[0m \u001b[1;33m+\u001b[0m \u001b[0murl\u001b[0m\u001b[1;33m\u001b[0m\u001b[1;33m\u001b[0m\u001b[0m\n\u001b[0;32m    105\u001b[0m \u001b[1;33m\u001b[0m\u001b[0m\n\u001b[1;32m--> 106\u001b[1;33m     \u001b[0mdomain\u001b[0m \u001b[1;33m=\u001b[0m \u001b[0mre\u001b[0m\u001b[1;33m.\u001b[0m\u001b[0mfindall\u001b[0m\u001b[1;33m(\u001b[0m\u001b[1;34mr\"://([^/]+)/?\"\u001b[0m\u001b[1;33m,\u001b[0m \u001b[0murl\u001b[0m\u001b[1;33m)\u001b[0m\u001b[1;33m[\u001b[0m\u001b[1;36m0\u001b[0m\u001b[1;33m]\u001b[0m\u001b[1;33m\u001b[0m\u001b[1;33m\u001b[0m\u001b[0m\n\u001b[0m\u001b[0;32m    107\u001b[0m     \u001b[1;32mif\u001b[0m \u001b[0mre\u001b[0m\u001b[1;33m.\u001b[0m\u001b[0mmatch\u001b[0m\u001b[1;33m(\u001b[0m\u001b[1;34mr\"^www.\"\u001b[0m\u001b[1;33m,\u001b[0m \u001b[0mdomain\u001b[0m\u001b[1;33m)\u001b[0m\u001b[1;33m:\u001b[0m\u001b[1;33m\u001b[0m\u001b[1;33m\u001b[0m\u001b[0m\n\u001b[0;32m    108\u001b[0m         \u001b[0mdomain\u001b[0m \u001b[1;33m=\u001b[0m \u001b[0mdomain\u001b[0m\u001b[1;33m.\u001b[0m\u001b[0mreplace\u001b[0m\u001b[1;33m(\u001b[0m\u001b[1;34m\"www.\"\u001b[0m\u001b[1;33m,\u001b[0m \u001b[1;34m\"\"\u001b[0m\u001b[1;33m)\u001b[0m\u001b[1;33m\u001b[0m\u001b[1;33m\u001b[0m\u001b[0m\n",
      "\u001b[1;31mIndexError\u001b[0m: list index out of range"
     ]
    }
   ],
   "source": [
    "df[['1','2','3','4','5','6','7','8','9','10','11','12','13','14','15','16']]=pd.DataFrame(df.apply(lambda x: createData(x[\"URL\"]), axis=1)"
   ]
  },
  {
   "cell_type": "code",
   "execution_count": 9,
   "metadata": {},
   "outputs": [
    {
     "data": {
      "text/plain": [
       "100"
      ]
     },
     "execution_count": 9,
     "metadata": {},
     "output_type": "execute_result"
    }
   ],
   "source": [
    "len(url_data)\n",
    "    "
   ]
  },
  {
   "cell_type": "code",
   "execution_count": null,
   "metadata": {},
   "outputs": [],
   "source": []
  }
 ],
 "metadata": {
  "kernelspec": {
   "display_name": "Python 3",
   "language": "python",
   "name": "python3"
  },
  "language_info": {
   "codemirror_mode": {
    "name": "ipython",
    "version": 3
   },
   "file_extension": ".py",
   "mimetype": "text/x-python",
   "name": "python",
   "nbconvert_exporter": "python",
   "pygments_lexer": "ipython3",
   "version": "3.8.5"
  }
 },
 "nbformat": 4,
 "nbformat_minor": 4
}
